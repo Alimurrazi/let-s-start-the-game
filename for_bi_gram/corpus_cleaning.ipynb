{
 "cells": [
  {
   "cell_type": "code",
   "execution_count": 12,
   "metadata": {},
   "outputs": [],
   "source": [
    "import io\n",
    "\n",
    "all_category=[\"accident\",\"art\",\"crime\",\"economics\",\"education\",\"entertainment\",\"environment\",\"international\",\"opinion\",\"politics\",\"science\",\"sports\"]\n",
    "replace_word=['<source>','</source>','<date>','</date>','<category>','</category>','<title>','</title>','<p>','</p>']\n",
    "file = open('dataset_corpus_input.txt','w',encoding=\"utf-8\")\n",
    "  \n",
    "\n",
    "for category in all_category:\n",
    "    for i in range(1,21):\n",
    "        data_path ='corpus/'+category+'/link'+str(i)+'.txt'\n",
    "\n",
    "\n",
    "        check=0\n",
    "        with open(data_path, 'r', encoding='utf-8-sig') as f:\n",
    "            lines = f.read().split('\\n')\n",
    "        for line in lines:\n",
    "            if '<date>' in line:\n",
    "                continue\n",
    "            if '<category>' in line:\n",
    "                continue\n",
    "            for word in replace_word:\n",
    "                    line = line.replace(word, \"\")\n",
    "\n",
    "            wordlist = line.split()\n",
    "            for i in range(0,len(wordlist)):\n",
    "                if i==0:\n",
    "                    line='\\u200c'+\" \"+wordlist[i]+\" \"+wordlist[i+1]\n",
    "                elif i==(len(wordlist)-1):\n",
    "                    line=wordlist[i-1]+\" \"+wordlist[i]+\" \"+'\\u200c'\n",
    "                else:\n",
    "                    line=wordlist[i-1]+\" \"+wordlist[i]+\" \"+wordlist[i+1]\n",
    "               # print(line)\n",
    "               # word_again=line.split()\n",
    "               # print(word_again)\n",
    "                file.write(line+'\\n')\n",
    "    \n",
    "file.close()  "
   ]
  },
  {
   "cell_type": "code",
   "execution_count": 53,
   "metadata": {},
   "outputs": [
    {
     "data": {
      "text/plain": [
       "'{\"message\":\"Successfully generated\",\"result\":{\"আমাদেরকে\":\"আমাদের\"},\"status\":\"success\",\"code\":200}'"
      ]
     },
     "execution_count": 53,
     "metadata": {},
     "output_type": "execute_result"
    }
   ],
   "source": [
    "import requests\n",
    "\n",
    "api_url = 'http://pipilika.com:92/PipilikaStemmerAPI/process?query=আমাদেরকে'\n",
    "headers = {'apiKey':'5a0853e0af2bd'}\n",
    "\n",
    "req = requests.post(api_url,headers=headers)\n",
    "req.text"
   ]
  },
  {
   "cell_type": "code",
   "execution_count": 13,
   "metadata": {},
   "outputs": [
    {
     "name": "stdout",
     "output_type": "stream",
     "text": [
      "অ্যান্ডেজ অ্যান্ডেজ\n",
      "অ্যান্ডেজ\tঅ্যান্ডেজ\n",
      "আলমের আলম\n",
      "আলমের\tআলম\n",
      "স্পিনিংয়ের স্পিনিং\n",
      "স্পিনিংয়ের\tস্পিনিং\n",
      "জোরদারের জোরদার\n",
      "জোরদারের\tজোরদার\n",
      "ঘড়িতে ঘড়ি\n",
      "ঘড়িতে\tঘড়ি\n",
      "ডেনিমেরও ডেনিম\n",
      "ডেনিমেরও\tডেনিম\n",
      "বেবিট্যাক্সিই বেবিট্যাক্সি\n",
      "বেবিট্যাক্সিই\tবেবিট্যাক্সি\n",
      "বাড়িটিতে বাড়ি\n",
      "বাড়িটিতে\tবাড়ি\n",
      "ইনিংসটিতেই ইনিংস\n",
      "ইনিংসটিতেই\tইনিংস\n",
      "মার্কনিকে মার্কনি\n",
      "মার্কনিকে\tমার্কনি\n",
      "ড্রাইয়ারের ড্রাইয়ার\n",
      "ড্রাইয়ারের\tড্রাইয়ার\n",
      "পুরোহিতদের পুরোহিত\n",
      "পুরোহিতদের\tপুরোহিত\n",
      "অভিবাসীর অভিবাসী\n",
      "অভিবাসীর\tঅভিবাসী\n",
      "অ্যালামনাইদের অ্যালামনাই\n",
      "অ্যালামনাইদের\tঅ্যালামনাই\n",
      "সুইসপোস্টের সুইসপোস্টে\n",
      "সুইসপোস্টের\tসুইসপোস্টে\n",
      "দেয়ালঘড়ির দেয়ালঘড়ি\n",
      "দেয়ালঘড়ির\tদেয়ালঘড়ি\n",
      "প্রাণরসায়নে প্রাণরসায়ন\n",
      "প্রাণরসায়নে\tপ্রাণরসায়ন\n",
      "ছক্কাটি ছক্কা\n",
      "ছক্কাটি\tছক্কা\n"
     ]
    }
   ],
   "source": [
    "data_path = 'one_to_one_dataset.txt'\n",
    "\n",
    "with open(data_path, 'r+', encoding='utf-8-sig') as f:\n",
    "    lines = f.read().split('\\n')\n",
    "for line in lines[:100]:\n",
    "    print(line)\n",
    "    line=line.replace(' ','\\t')\n",
    "   # f.write(line)\n",
    "    print(line)\n",
    "f.close()    "
   ]
  },
  {
   "cell_type": "code",
   "execution_count": null,
   "metadata": {
    "collapsed": true
   },
   "outputs": [],
   "source": []
  }
 ],
 "metadata": {
  "kernelspec": {
   "display_name": "Python 3",
   "language": "python",
   "name": "python3"
  },
  "language_info": {
   "codemirror_mode": {
    "name": "ipython",
    "version": 3
   },
   "file_extension": ".py",
   "mimetype": "text/x-python",
   "name": "python",
   "nbconvert_exporter": "python",
   "pygments_lexer": "ipython3",
   "version": "3.6.3"
  }
 },
 "nbformat": 4,
 "nbformat_minor": 2
}
