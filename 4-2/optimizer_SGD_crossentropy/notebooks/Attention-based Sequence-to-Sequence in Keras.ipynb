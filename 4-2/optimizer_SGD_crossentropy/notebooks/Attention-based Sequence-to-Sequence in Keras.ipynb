{
 "cells": [
  {
   "cell_type": "code",
   "execution_count": 1,
   "metadata": {},
   "outputs": [
    {
     "name": "stderr",
     "output_type": "stream",
     "text": [
      "Using TensorFlow backend.\n"
     ]
    }
   ],
   "source": [
    "from __future__ import print_function\n",
    "\n",
    "import sys\n",
    "import os\n",
    "import pandas as pd\n",
    "import numpy as np\n",
    "import matplotlib.pyplot as plt\n",
    "\n",
    "from keras.layers import Input, Embedding, LSTM, TimeDistributed, Dense\n",
    "from keras.models import Model, load_model\n",
    "\n",
    "# To import 'katakana' from relative path\n",
    "sys.path.append(os.path.abspath(os.path.join('..')))\n",
    "from katakana import encoding\n",
    "\n",
    "INPUT_LENGTH = 22\n",
    "OUTPUT_LENGTH = 22\n"
   ]
  },
  {
   "cell_type": "markdown",
   "metadata": {},
   "source": [
    "# Data pre-processing"
   ]
  },
  {
   "cell_type": "code",
   "execution_count": 2,
   "metadata": {},
   "outputs": [
    {
     "name": "stdout",
     "output_type": "stream",
     "text": [
      "রাজ্যগুলোর রাজ্য\n"
     ]
    }
   ],
   "source": [
    "with open('../data/dataset_random.txt', 'r', encoding='utf-8') as f:\n",
    "    lines = f.read().split('\\n')\n",
    "\n",
    "data_input=[]\n",
    "data_output=[]\n",
    "        \n",
    "for line in lines:\n",
    "    input_text, target_text = line.split(' ')\n",
    "    #if(len(input_text)>20 and len(target_text)>20):\n",
    "     #   print(input_text+\" \"+target_text)\n",
    "    data_input.append(input_text)\n",
    "    data_output.append(target_text)\n",
    "    \n",
    "print(data_input[1],data_output[1])    "
   ]
  },
  {
   "cell_type": "code",
   "execution_count": 3,
   "metadata": {},
   "outputs": [
    {
     "name": "stdout",
     "output_type": "stream",
     "text": [
      "training size 26011\n",
      "validation size 6503\n"
     ]
    }
   ],
   "source": [
    "#data = pd.read_csv('../data/joined_titles.csv', header=None)\n",
    "#data = data.sample(frac=1, random_state=0)\n",
    "\n",
    "########################data_input = [s.decode('utf-8').lower() for s in data[0]]\n",
    "########################data_output = [s.decode('utf-8') for s in data[1]]\n",
    "\n",
    "#data_input = [s.lower() for s in data[0]]\n",
    "#data_output = [s for s in data[1]]\n",
    "\n",
    "#print(data_input[0], data_output[0])\n",
    "#print(data_input[5], data_output[5])\n",
    "\n",
    "\n",
    "data_size = len(data_input)\n",
    "\n",
    "# We will use the first 0-60th %-tile (60%) of data for the training\n",
    "training_input  = data_input[int(data_size*0/100):int(data_size*80/100)]\n",
    "training_output = data_output[int(data_size*0/100):int(data_size*80/100)]\n",
    "\n",
    "# We will use the first 60-70th %-tile (10%) of data for the training\n",
    "validation_input = data_input[int(data_size*80/100):int(data_size*100/100)]\n",
    "validation_output = data_output[int(data_size*80/100):int(data_size*100/100)]\n",
    "\n",
    "print('training size', len(training_input))\n",
    "print('validation size', len(validation_input))"
   ]
  },
  {
   "cell_type": "markdown",
   "metadata": {},
   "source": [
    "### Transform data into Numpy arrays\n",
    "\n",
    "We transform the sequences of characters into sequences of integer IDs. This will be done by using pre-written functions in `encoding` module. \n",
    "- First, `encoding.build_characters_encoding` will build encoding/decoding dictionary from the data. \n",
    "- Then, `encoding.transform` will transform the data into numpy array.\n",
    "\n",
    "Check [the previous notebook](./Writing Katakana using Sequence-to-Sequence in Keras) for the details about the transformation."
   ]
  },
  {
   "cell_type": "code",
   "execution_count": 4,
   "metadata": {},
   "outputs": [
    {
     "name": "stdout",
     "output_type": "stream",
     "text": [
      "Input character dict size: 79\n",
      "Output character dict size: 78\n",
      "encoded_training_input (26011, 22)\n",
      "encoded_training_output (26011, 22)\n",
      "encoded_validation_input (6503, 22)\n",
      "encoded_validation_output (6503, 22)\n"
     ]
    }
   ],
   "source": [
    "input_encoding, input_decoding, input_dict_size = encoding.build_characters_encoding(data_input)\n",
    "output_encoding, output_decoding, output_dict_size = encoding.build_characters_encoding(data_output)\n",
    "\n",
    "print('Input character dict size:', input_dict_size)\n",
    "print('Output character dict size:', output_dict_size)\n",
    "\n",
    "encoded_training_input = encoding.transform(\n",
    "    input_encoding, training_input, vector_size=INPUT_LENGTH)\n",
    "encoded_training_output = encoding.transform(\n",
    "    output_encoding, training_output, vector_size=OUTPUT_LENGTH)\n",
    "\n",
    "print('encoded_training_input', encoded_training_input.shape)\n",
    "print('encoded_training_output', encoded_training_output.shape)\n",
    "\n",
    "encoded_validation_input = encoding.transform(\n",
    "    input_encoding, validation_input, vector_size=INPUT_LENGTH)\n",
    "encoded_validation_output = encoding.transform(\n",
    "    output_encoding, validation_output, vector_size=OUTPUT_LENGTH)\n",
    "\n",
    "print('encoded_validation_input', encoded_validation_input.shape)\n",
    "print('encoded_validation_output', encoded_validation_output.shape)"
   ]
  },
  {
   "cell_type": "markdown",
   "metadata": {},
   "source": [
    "# Sequence-to-Sequence in Keras"
   ]
  },
  {
   "cell_type": "code",
   "execution_count": 5,
   "metadata": {
    "collapsed": true
   },
   "outputs": [],
   "source": [
    "encoder_input = Input(shape=(INPUT_LENGTH,))\n",
    "decoder_input = Input(shape=(OUTPUT_LENGTH,))"
   ]
  },
  {
   "cell_type": "markdown",
   "metadata": {},
   "source": [
    "### Encoder / Decoder"
   ]
  },
  {
   "cell_type": "code",
   "execution_count": 6,
   "metadata": {},
   "outputs": [
    {
     "name": "stdout",
     "output_type": "stream",
     "text": [
      "encoder Tensor(\"lstm_1/transpose_2:0\", shape=(?, 22, 64), dtype=float32)\n",
      "encoder_last Tensor(\"strided_slice:0\", shape=(?, 64), dtype=float32)\n",
      "decoder Tensor(\"lstm_2/transpose_2:0\", shape=(?, 22, 64), dtype=float32)\n"
     ]
    }
   ],
   "source": [
    "from keras.layers import SimpleRNN\n",
    "\n",
    "encoder = Embedding(input_dict_size, 64, input_length=INPUT_LENGTH, mask_zero=True)(encoder_input)\n",
    "encoder = LSTM(64, return_sequences=True, unroll=True)(encoder)\n",
    "encoder_last = encoder[:,-1,:]\n",
    "\n",
    "print('encoder', encoder)\n",
    "print('encoder_last', encoder_last)\n",
    "\n",
    "decoder = Embedding(output_dict_size, 64, input_length=OUTPUT_LENGTH, mask_zero=True)(decoder_input)\n",
    "decoder = LSTM(64, return_sequences=True, unroll=True)(decoder, initial_state=[encoder_last, encoder_last])\n",
    "\n",
    "print('decoder', decoder)"
   ]
  },
  {
   "cell_type": "markdown",
   "metadata": {},
   "source": [
    "### Attention Mechanism\n",
    "\n",
    "Reference: \n",
    "[Effective Approaches to Attention-based Neural Machine Translation](https://arxiv.org/pdf/1508.04025.pdf)'s \n",
    "**Global Attention** with **Dot**-based scoring function (Section 3, 3.1)\n"
   ]
  },
  {
   "cell_type": "code",
   "execution_count": 7,
   "metadata": {},
   "outputs": [
    {
     "name": "stdout",
     "output_type": "stream",
     "text": [
      "attention Tensor(\"attention/truediv:0\", shape=(?, 22, 22), dtype=float32)\n",
      "context Tensor(\"dot_2/MatMul:0\", shape=(?, 22, 64), dtype=float32)\n",
      "decoder_combined_context Tensor(\"concatenate_1/concat:0\", shape=(?, 22, 128), dtype=float32)\n",
      "output Tensor(\"time_distributed_2/Reshape_1:0\", shape=(?, 22, 78), dtype=float32)\n"
     ]
    }
   ],
   "source": [
    "from keras.layers import Activation, dot, concatenate\n",
    "\n",
    "# Equation (7) with 'dot' score from Section 3.1 in the paper.\n",
    "# Note that we reuse Softmax-activation layer instead of writing tensor calculation\n",
    "attention = dot([decoder, encoder], axes=[2, 2])\n",
    "attention = Activation('softmax', name='attention')(attention)\n",
    "print('attention', attention)\n",
    "\n",
    "context = dot([attention, encoder], axes=[2,1])\n",
    "print('context', context)\n",
    "\n",
    "decoder_combined_context = concatenate([context, decoder])\n",
    "print('decoder_combined_context', decoder_combined_context)\n",
    "\n",
    "# Has another weight + tanh layer as described in equation (5) of the paper\n",
    "output = TimeDistributed(Dense(64, activation=\"tanh\"))(decoder_combined_context)\n",
    "output = TimeDistributed(Dense(output_dict_size, activation=\"softmax\"))(output)\n",
    "print('output', output)\n"
   ]
  },
  {
   "cell_type": "code",
   "execution_count": 13,
   "metadata": {
    "collapsed": true
   },
   "outputs": [],
   "source": [
    "model = Model(inputs=[encoder_input, decoder_input], outputs=[output])\n",
    "model.compile(optimizer='adamax', loss='categorical_crossentropy',metrics=['accuracy'])"
   ]
  },
  {
   "cell_type": "markdown",
   "metadata": {},
   "source": [
    "## Training the model"
   ]
  },
  {
   "cell_type": "code",
   "execution_count": 14,
   "metadata": {
    "collapsed": true
   },
   "outputs": [],
   "source": [
    "training_encoder_input = encoded_training_input\n",
    "training_decoder_input = np.zeros_like(encoded_training_output)\n",
    "training_decoder_input[:, 1:] = encoded_training_output[:,:-1]\n",
    "training_decoder_input[:, 0] = encoding.CHAR_CODE_START\n",
    "training_decoder_output = np.eye(output_dict_size)[encoded_training_output.astype('int')]\n",
    "\n",
    "validation_encoder_input = encoded_validation_input\n",
    "validation_decoder_input = np.zeros_like(encoded_validation_output)\n",
    "validation_decoder_input[:, 1:] = encoded_validation_output[:,:-1]\n",
    "validation_decoder_input[:, 0] = encoding.CHAR_CODE_START\n",
    "validation_decoder_output = np.eye(output_dict_size)[encoded_validation_output.astype('int')]"
   ]
  },
  {
   "cell_type": "code",
   "execution_count": 15,
   "metadata": {},
   "outputs": [
    {
     "name": "stdout",
     "output_type": "stream",
     "text": [
      "Train on 26011 samples, validate on 6503 samples\n",
      "Epoch 1/15\n",
      " - 82s - loss: 2.6680 - acc: 0.3144 - val_loss: 2.3212 - val_acc: 0.3978\n",
      "Epoch 2/15\n",
      " - 48s - loss: 2.1302 - acc: 0.4383 - val_loss: 1.9755 - val_acc: 0.4721\n",
      "Epoch 3/15\n",
      " - 48s - loss: 1.7940 - acc: 0.5138 - val_loss: 1.6334 - val_acc: 0.5533\n",
      "Epoch 4/15\n",
      " - 48s - loss: 1.5111 - acc: 0.5816 - val_loss: 1.3920 - val_acc: 0.6136\n",
      "Epoch 5/15\n",
      " - 48s - loss: 1.2668 - acc: 0.6466 - val_loss: 1.1523 - val_acc: 0.6768\n",
      "Epoch 6/15\n",
      " - 48s - loss: 1.0710 - acc: 0.6972 - val_loss: 0.9992 - val_acc: 0.7155\n",
      "Epoch 7/15\n",
      " - 48s - loss: 0.9073 - acc: 0.7414 - val_loss: 0.8369 - val_acc: 0.7581\n",
      "Epoch 8/15\n",
      " - 48s - loss: 0.7839 - acc: 0.7757 - val_loss: 0.7505 - val_acc: 0.7855\n",
      "Epoch 9/15\n",
      " - 48s - loss: 0.6882 - acc: 0.8020 - val_loss: 0.6445 - val_acc: 0.8115\n",
      "Epoch 10/15\n",
      " - 48s - loss: 0.6027 - acc: 0.8261 - val_loss: 0.5783 - val_acc: 0.8326\n",
      "Epoch 11/15\n",
      " - 48s - loss: 0.5307 - acc: 0.8467 - val_loss: 0.4973 - val_acc: 0.8563\n",
      "Epoch 12/15\n",
      " - 47s - loss: 0.4801 - acc: 0.8613 - val_loss: 0.4786 - val_acc: 0.8578\n",
      "Epoch 13/15\n",
      " - 48s - loss: 0.4343 - acc: 0.8736 - val_loss: 0.4317 - val_acc: 0.8733\n",
      "Epoch 14/15\n",
      " - 49s - loss: 0.3940 - acc: 0.8858 - val_loss: 0.4249 - val_acc: 0.8736\n",
      "Epoch 15/15\n",
      " - 48s - loss: 0.3623 - acc: 0.8943 - val_loss: 0.3498 - val_acc: 0.8962\n",
      "Train on 26011 samples, validate on 6503 samples\n",
      "Epoch 1/5\n",
      " - 48s - loss: 0.3390 - acc: 0.9008 - val_loss: 0.3336 - val_acc: 0.9022\n",
      "Epoch 2/5\n",
      " - 48s - loss: 0.3200 - acc: 0.9060 - val_loss: 0.3162 - val_acc: 0.9069\n",
      "Epoch 3/5\n",
      " - 47s - loss: 0.2961 - acc: 0.9134 - val_loss: 0.3187 - val_acc: 0.9052\n",
      "Epoch 4/5\n",
      " - 48s - loss: 0.2789 - acc: 0.9179 - val_loss: 0.3315 - val_acc: 0.9019\n",
      "Epoch 5/5\n",
      " - 48s - loss: 0.2630 - acc: 0.9225 - val_loss: 0.2611 - val_acc: 0.9243\n"
     ]
    },
    {
     "name": "stderr",
     "output_type": "stream",
     "text": [
      "C:\\Users\\RANA_CSE\\Anaconda3\\lib\\site-packages\\keras\\engine\\topology.py:2361: UserWarning: Layer lstm_2 was passed non-serializable keyword arguments: {'initial_state': [<tf.Tensor 'strided_slice:0' shape=(?, 64) dtype=float32>, <tf.Tensor 'strided_slice:0' shape=(?, 64) dtype=float32>]}. They will not be included in the serialized model (and thus will be missing at deserialization time).\n",
      "  str(node.arguments) + '. They will not be included '\n"
     ]
    }
   ],
   "source": [
    "if os.path.isfile('model.h5'):\n",
    "    model = load_model('model.h5')\n",
    "else:\n",
    "    history=model.fit(x=[training_encoder_input, training_decoder_input], y=[training_decoder_output],\n",
    "          validation_data=([validation_encoder_input, validation_decoder_input], [validation_decoder_output]),\n",
    "          verbose=2, batch_size=64, epochs=15) #epochs=30)\n",
    "                      \n",
    "history=model.fit(x=[training_encoder_input, training_decoder_input], y=[training_decoder_output],\n",
    "          validation_data=([validation_encoder_input, validation_decoder_input], [validation_decoder_output]),\n",
    "          verbose=2, batch_size=64, epochs=5)\n",
    "\n",
    "model.save('model.h5')"
   ]
  },
  {
   "cell_type": "code",
   "execution_count": null,
   "metadata": {
    "collapsed": true
   },
   "outputs": [],
   "source": []
  },
  {
   "cell_type": "markdown",
   "metadata": {},
   "source": [
    "### Testing the model\n"
   ]
  },
  {
   "cell_type": "code",
   "execution_count": 16,
   "metadata": {
    "collapsed": true
   },
   "outputs": [],
   "source": [
    "def generate(text):\n",
    "    encoder_input = encoding.transform(input_encoding, [text.lower()], 22)\n",
    "    decoder_input = np.zeros(shape=(len(encoder_input), OUTPUT_LENGTH))\n",
    "    decoder_input[:,0] = encoding.CHAR_CODE_START\n",
    "    for i in range(1, OUTPUT_LENGTH):\n",
    "        output = model.predict([encoder_input, decoder_input]).argmax(axis=2)\n",
    "        decoder_input[:,i] = output[:,i]\n",
    "    return decoder_input[:,1:]\n",
    "\n",
    "def decode(decoding, sequence):\n",
    "    text = ''\n",
    "    for i in sequence:\n",
    "        if i == 0:\n",
    "            break\n",
    "        text += output_decoding[i]\n",
    "    return text\n",
    "\n",
    "def to_stem(text):\n",
    "    decoder_output = generate(text)\n",
    "    return decode(output_decoding, decoder_output[0])\n",
    "\n",
    "\n",
    "common_american_names = ['James', 'John', 'Robert', 'Mary', 'Patricia', 'Linda']\n",
    "\n",
    "common_american_names=['Unschooling',\n",
    "'Lovosice',\n",
    "'Milch',\n",
    "'Juva',\n",
    "'Brembilla',\n",
    "'Sa Pa',\n",
    "'Brumano',\n",
    "'Brusaporto',\n",
    "'Deventer',\n",
    "'Enschede']\n",
    "\n",
    "common_american_names=['এই বটের আশ্রয়ে',\n",
    "'ঐ বটের ছায়ায়',\n",
    "'বটে! বটে! বটে!',\n",
    "'বিচিত্র বটে! লাল',\n",
    "'১২ই মে ২০২৫',\n",
    "'আজ মে মাস',\n",
    "'হাসিতে মেতে উঠল' ]\n",
    "\n",
    "#for name in common_american_names:\n",
    " #   print(name, to_katakana(name))"
   ]
  },
  {
   "cell_type": "code",
   "execution_count": 18,
   "metadata": {},
   "outputs": [
    {
     "name": "stdout",
     "output_type": "stream",
     "text": [
      "ডাকাতরা------ডাকাতরা\n",
      "কারুপণ্যে------কারুপণ্য\n",
      "ওভারেই------ওভার\n",
      "হীরাকে------হীরা\n",
      "রানে------রান\n",
      "হোসেনেরও------হোসেন\n",
      "ওভারের------ওভার\n",
      "হাউসটির------হাউস\n",
      "শেরপাদের------শেরপা\n",
      "চম্পকারই------পৌমত্চ\n",
      "এডিনবরার------এডিনবরা\n",
      "সক্ষমতাই------সক্ষমতা\n",
      "রাইডারকে------রাইডার\n",
      "ভাগ্নেদের------ভাগ্নে\n",
      "জুরিখে------জুরিখে\n",
      "সক্ষমতাও------সক্ষমতা\n",
      "আগুয়েরোকে------আগুয়েরো\n",
      "শব্দটির------অতেপ্স\n",
      "ছাত্রশিবিরেরটা------ছাত্রচিনফি\n",
      "তনুময়ের------তনুময়\n",
      "শব্দটিও------অত্লফ\n",
      "শব্দটার------অনুংকোড়\n",
      "শব্দটিই------অত্লফ\n",
      "পালংখালীতে------পালউদলাতি\n",
      "শব্দটাও------অনোষুং\n",
      "লালনগীতির------লালনগীতন\n",
      "চেসের------চেস\n",
      "রাতই------রাত\n",
      "আদর্শকে------আদর্শ\n",
      "সক্ষমতার------সক্ষমতা\n",
      "রাতও------রাত\n",
      "মেরিকে------মেরি\n",
      "মিশনারিরা------মিশনারি\n",
      "কোম্পানিকেও------ক্ল্মহান্র\n",
      "পাবনায়ও------পাবনায়\n",
      "র‌্যাবের------রৌভাবু\n",
      "কোম্পানিকেই------ক্ল্যিমনো\n",
      "খাজানগরের------খাজানগর\n",
      "নিভৃতে------নিভৃত\n",
      "কনসোলটিকে------কনসোল\n",
      "মোহাম্মদের------মালবিবাজ্ডো\n",
      "ডাকাতের------ডাকাত\n",
      "স্বাধীনতাকামীরাও------স্বাধনীতাক্যী\n",
      "আফগানিস্তানেও------আফগানিস্না\n",
      "সাপের------সাপ\n",
      "মৎস্যজীবীরা------মেপবসাবনাভায়\n",
      "দীপ্রটা------দীপ্র\n",
      "আফগানিস্তানের------আফগানিস্না\n",
      "চ্যালেঞ্জেও------চ্যালেঞ্জ\n",
      "দর্শকেরাও------দর্শক\n",
      "মেডিয়েটরের------মেডিয়েটর\n",
      "পতাকাটিও------পতাকা\n",
      "আফগানিস্তানেই------আঙেন্গানিলি\n",
      "চ্যালেঞ্জের------চ্যালেঞ্জ\n",
      "নীরবতাও------নীরবতা\n",
      "আজিজের------আজিজ\n",
      "সৈকতকে------সৌকদত\n",
      "নীরবতাই------নীরবতা\n",
      "নূনের------নূন\n",
      "লেম্যানকে------লেম্যান\n",
      "নীরবতায়------নীরবতা\n",
      "গুদামটিকে------দুগানেসপ\n",
      "রিকশাচিত্রের------রিকশিতাপু\n",
      "অ্যাথলেটকে------অ্যাথলেট\n",
      "মুলারের------মুলার\n",
      "টিয়ারগ্যাসে------টিয়ারগ্যাস\n",
      "নীরবতার------নীরবতা\n",
      "রাগে------রাগ\n",
      "ডাকাতিই------ডাকাতি\n",
      "বেইজিংয়ে------বেইজিং\n",
      "দেয়ালচিত্রকে------দেয়ালিচতস\n",
      "অনিমেষের------অনিমেষ\n",
      "ডাকাতির------ডাকাতি\n",
      "সংখ্যাগরিষ্ঠরা------আসক্নায়জ্ষ\n",
      "সিসিসির------সিসিসি\n",
      "গম্ভীরেরও------গম্ভীর\n",
      "বলতেই------বলত\n",
      "কালকেই------কাল\n",
      "কালকের------কালক\n",
      "বাংলাভিশনে------বাংলাভিশন\n",
      "ওয়ার্কসপের------ওয়ার্কসিস\n",
      "ডালাসে------ডালাস\n",
      "পানচাষিরা------পানচাষি\n",
      "সমুদ্রদূষণের------সমুদ্রদৃণ\n",
      "হীরাটা------হীরা\n",
      "হীরাটি------হীরা\n",
      "সার্বভৌমত্বই------সার্ববনবিপ\n",
      "এমএলএর------এমএলএ\n",
      "টেকই------টেক\n",
      "ঐশীগ্রন্থের------শৈরণ্ঠান\n",
      "মাইনুদ্দীনের------মেনাদাদ্রপ\n",
      "শিল্পাঞ্চলে------শিল্পাচন্ট\n",
      "ওয়ান্ডারার্সের------ওয়ান্ডার্রাটিট\n",
      "মাস্টাররা------মাস্টার\n",
      "ডাচদেরই------ডাচ\n",
      "রবিনকে------রবিন\n",
      "দায়গুলো------দায়\n",
      "মায়াদিকে------মায়াদি\n",
      "এমএমসির------এমএমসি\n",
      "পণ্ডিতেরা------পণ্ডিত\n",
      "66.0\n"
     ]
    }
   ],
   "source": [
    "#print(to_katakana('সাদা লাল নীল'))\n",
    "#print(to_katakana('Peter Parker'))\n",
    "#print(to_katakana('Jonny Snow'))\n",
    "\n",
    "with open('../data/stemmer_dataset.txt', 'r', encoding='utf-8') as f:\n",
    "    lines = f.read().split('\\n')\n",
    "\n",
    "    count=0\n",
    "for line in lines[34905: 35005]:\n",
    "    test_input_text, test_target_text = line.split(' ')\n",
    "    test_output_text=to_stem(test_input_text)\n",
    "    print(test_input_text+\"------\"+test_output_text)\n",
    "    if(test_output_text==test_target_text):\n",
    "        count+=1\n",
    "        \n",
    "print((count*100)/100)        "
   ]
  },
  {
   "cell_type": "markdown",
   "metadata": {},
   "source": [
    "# Visualize Attention\n",
    "\n",
    "The next step is visualizing the attention values of the medel during the translation. \n",
    "\n",
    "To do that, the first step is to locate \"attention\" layer of the model. The attention layer is the 7th layers of the model (`model.layers[7]`), which is the softmax activation-layer after dot-score. Or we can also simply call `model.get_layer('attention')` as we previously name the layer as \"attention\"."
   ]
  },
  {
   "cell_type": "code",
   "execution_count": 32,
   "metadata": {},
   "outputs": [
    {
     "name": "stdout",
     "output_type": "stream",
     "text": [
      "<keras.engine.topology.InputLayer object at 0x0000004C909BDA20>\tname:input_2\n",
      "<keras.engine.topology.InputLayer object at 0x0000004C909BDB00>\tname:input_1\n",
      "<keras.layers.embeddings.Embedding object at 0x0000004C94FE9A58>\tname:embedding_2\n",
      "<keras.layers.embeddings.Embedding object at 0x0000004C9264A358>\tname:embedding_1\n",
      "<keras.layers.recurrent.LSTM object at 0x0000004C94FC0F28>\tname:lstm_2\n",
      "<keras.layers.recurrent.LSTM object at 0x0000004C9264A320>\tname:lstm_1\n",
      "<keras.layers.merge.Dot object at 0x0000004C9006DA90>\tname:dot_1\n",
      "<keras.layers.core.Activation object at 0x0000004C9006DEB8>\tname:attention\n",
      "<keras.layers.merge.Dot object at 0x0000004C9619CA90>\tname:dot_2\n",
      "<keras.layers.merge.Concatenate object at 0x0000004C961B5B00>\tname:concatenate_1\n",
      "<keras.layers.wrappers.TimeDistributed object at 0x0000004C961BFA20>\tname:time_distributed_1\n",
      "<keras.layers.wrappers.TimeDistributed object at 0x0000004C961E7048>\tname:time_distributed_2\n"
     ]
    }
   ],
   "source": [
    "layers = model.layers\n",
    "for l in layers:\n",
    "    print('%s\\tname:%s' % (str(l), l.name))\n",
    "    \n",
    "assert(model.layers[7] == model.get_layer('attention'))"
   ]
  },
  {
   "cell_type": "markdown",
   "metadata": {},
   "source": [
    "We also need to re-build the model so that it returns the output from the attention layer in addition to the normal output."
   ]
  },
  {
   "cell_type": "code",
   "execution_count": 33,
   "metadata": {},
   "outputs": [
    {
     "name": "stdout",
     "output_type": "stream",
     "text": [
      "<keras.engine.training.Model object at 0x0000004CC3E34CF8>\n",
      "[(None, 20, 100), (None, 20, 20)]\n"
     ]
    }
   ],
   "source": [
    "attention_layer = model.get_layer('attention') # or model.layers[7]\n",
    "attention_model = Model(inputs=model.inputs, outputs=model.outputs + [attention_layer.output])\n",
    "\n",
    "print(attention_model)\n",
    "print(attention_model.output_shape)"
   ]
  },
  {
   "cell_type": "code",
   "execution_count": 37,
   "metadata": {},
   "outputs": [
    {
     "data": {
      "image/png": "[encoded data removed]",
      "text/plain": [
       "<matplotlib.figure.Figure at 0x4cc36f27f0>"
      ]
     },
     "metadata": {},
     "output_type": "display_data"
    }
   ],
   "source": [
    "# for testing\n",
    "\n",
    "import matplotlib.font_manager as fm\n",
    "import matplotlib.pyplot as plt\n",
    "\n",
    "prop = fm.FontProperties(fname='kalpurush.ttf')\n",
    "s = \"কৃষক জমিতে ধান চাষ করে\"\n",
    "x = 0.2\n",
    "y = 0.2\n",
    "plt.text(x, y, s, fontproperties=prop)\n",
    "plt.show()"
   ]
  },
  {
   "cell_type": "code",
   "execution_count": 38,
   "metadata": {
    "collapsed": true
   },
   "outputs": [],
   "source": [
    "%matplotlib inline  \n",
    "import matplotlib\n",
    "import matplotlib.pyplot as plt\n",
    "import seaborn\n",
    "\n",
    "#banglar jonno kon font bhalo hoy oita thik korte hobe\n",
    "seaborn.set(font=['kalpurush.ttf'], font_scale=3)\n",
    "\n",
    "def attent_and_generate(text):\n",
    "    encoder_input = encoding.transform(input_encoding, [text.lower()], 20)\n",
    "    decoder_input = np.zeros(shape=(len(encoder_input), OUTPUT_LENGTH))\n",
    "    decoder_input[:,0] = encoding.CHAR_CODE_START\n",
    "    \n",
    "    for i in range(1, OUTPUT_LENGTH):\n",
    "        output, attention = attention_model.predict([encoder_input, decoder_input])\n",
    "        decoder_input[:,i] = output.argmax(axis=2)[:,i]\n",
    "        attention_density = attention[0]\n",
    "        decoded_output = decode(output_decoding, decoder_input[0][1:])\n",
    "        \n",
    "    return attention_density, decoded_output\n",
    "\n",
    "\n",
    "def visualize(text):\n",
    "    attention_density, katakana = attent_and_generate(text)\n",
    "\n",
    "    plt.clf()\n",
    "    plt.figure(figsize=(28,12))\n",
    "    \n",
    "    ax = seaborn.heatmap(attention_density[:len(katakana) + 2, : len(text) + 2],\n",
    "        xticklabels=[w for w in text],\n",
    "        yticklabels=[w for w in katakana])\n",
    "\n",
    "    ax.invert_yaxis()\n",
    "    plt.show()\n"
   ]
  },
  {
   "cell_type": "code",
   "execution_count": 39,
   "metadata": {},
   "outputs": [
    {
     "name": "stderr",
     "output_type": "stream",
     "text": [
      "C:\\Users\\RANA_CSE\\Anaconda3\\lib\\site-packages\\matplotlib\\font_manager.py:1316: UserWarning: findfont: Font family ['kalpurush.ttf'] not found. Falling back to DejaVu Sans\n",
      "  (prop.get_family(), self.defaultFamily[fontext]))\n"
     ]
    },
    {
     "data": {
      "text/plain": [
       "<matplotlib.figure.Figure at 0x4cc37c8240>"
      ]
     },
     "metadata": {},
     "output_type": "display_data"
    },
    {
     "data": {
      "image/png": "[encoded data removed]",
      "text/plain": [
       "<matplotlib.figure.Figure at 0x4cc53417f0>"
      ]
     },
     "metadata": {},
     "output_type": "display_data"
    }
   ],
   "source": [
    "visualize('সাদা লাল নীল')"
   ]
  },
  {
   "cell_type": "code",
   "execution_count": 23,
   "metadata": {},
   "outputs": [
    {
     "name": "stderr",
     "output_type": "stream",
     "text": [
      "C:\\Users\\RANA_CSE\\Anaconda3\\lib\\site-packages\\matplotlib\\font_manager.py:1316: UserWarning: findfont: Font family ['Osaka'] not found. Falling back to DejaVu Sans\n",
      "  (prop.get_family(), self.defaultFamily[fontext]))\n"
     ]
    },
    {
     "data": {
      "text/plain": [
       "<matplotlib.figure.Figure at 0x9713a5e1d0>"
      ]
     },
     "metadata": {},
     "output_type": "display_data"
    },
    {
     "data": {
      "image/png": "[encoded data removed]",
      "text/plain": [
       "<matplotlib.figure.Figure at 0x9713a3cb70>"
      ]
     },
     "metadata": {},
     "output_type": "display_data"
    }
   ],
   "source": [
    "visualize('Utada Hikaruk')"
   ]
  },
  {
   "cell_type": "code",
   "execution_count": 11,
   "metadata": {},
   "outputs": [
    {
     "ename": "NameError",
     "evalue": "name 'visualize' is not defined",
     "output_type": "error",
     "traceback": [
      "\u001b[1;31m---------------------------------------------------------------------------\u001b[0m",
      "\u001b[1;31mNameError\u001b[0m                                 Traceback (most recent call last)",
      "\u001b[1;32m<ipython-input-11-9181a5add40e>\u001b[0m in \u001b[0;36m<module>\u001b[1;34m()\u001b[0m\n\u001b[1;32m----> 1\u001b[1;33m \u001b[0mvisualize\u001b[0m\u001b[1;33m(\u001b[0m\u001b[1;34m'Harry Potter'\u001b[0m\u001b[1;33m)\u001b[0m\u001b[1;33m\u001b[0m\u001b[0m\n\u001b[0m",
      "\u001b[1;31mNameError\u001b[0m: name 'visualize' is not defined"
     ]
    }
   ],
   "source": [
    "visualize('Harry Potter')"
   ]
  },
  {
   "cell_type": "code",
   "execution_count": 12,
   "metadata": {},
   "outputs": [
    {
     "name": "stdout",
     "output_type": "stream",
     "text": [
      "dict_keys(['val_loss', 'val_acc', 'loss', 'acc'])\n"
     ]
    },
    {
     "data": {
      "image/png": "[encoded data removed]",
      "text/plain": [
       "<matplotlib.figure.Figure at 0xdf1e762dd8>"
      ]
     },
     "metadata": {},
     "output_type": "display_data"
    },
    {
     "data": {
      "image/png": "[encoded data removed]",
      "text/plain": [
       "<matplotlib.figure.Figure at 0xdf1d6aa860>"
      ]
     },
     "metadata": {},
     "output_type": "display_data"
    }
   ],
   "source": [
    "# list all data in history\n",
    "print(history.history.keys())\n",
    "# summarize history for accuracy\n",
    "plt.plot(history.history['acc'])\n",
    "plt.plot(history.history['val_acc'])\n",
    "plt.title('model accuracy')\n",
    "plt.ylabel('accuracy')\n",
    "plt.xlabel('epoch')\n",
    "plt.legend(['train', 'test'], loc='upper left')\n",
    "plt.show()\n",
    "# summarize history for loss\n",
    "plt.plot(history.history['loss'])\n",
    "plt.plot(history.history['val_loss'])\n",
    "plt.title('model loss')\n",
    "plt.ylabel('loss')\n",
    "plt.xlabel('epoch')\n",
    "plt.legend(['train', 'test'], loc='upper left')\n",
    "plt.show()"
   ]
  },
  {
   "cell_type": "code",
   "execution_count": null,
   "metadata": {
    "collapsed": true
   },
   "outputs": [],
   "source": []
  }
 ],
 "metadata": {
  "kernelspec": {
   "display_name": "Python 3",
   "language": "python",
   "name": "python3"
  },
  "language_info": {
   "codemirror_mode": {
    "name": "ipython",
    "version": 3
   },
   "file_extension": ".py",
   "mimetype": "text/x-python",
   "name": "python",
   "nbconvert_exporter": "python",
   "pygments_lexer": "ipython3",
   "version": "3.6.3"
  }
 },
 "nbformat": 4,
 "nbformat_minor": 2
}
