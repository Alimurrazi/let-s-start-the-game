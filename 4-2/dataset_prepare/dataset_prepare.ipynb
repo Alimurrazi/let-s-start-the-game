{
 "cells": [
  {
   "cell_type": "code",
   "execution_count": 1,
   "metadata": {
    "collapsed": true
   },
   "outputs": [],
   "source": [
    "from __future__ import print_function"
   ]
  },
  {
   "cell_type": "code",
   "execution_count": 3,
   "metadata": {
    "collapsed": true
   },
   "outputs": [],
   "source": [
    "#stemmer_dataset থিকা প্রথম ২০১০০ sequence নিলাম । কারন এই sequence গুলো check করা হয়েছে ।\n",
    "\n",
    "import io\n",
    "\n",
    "file = open('dataset.txt','w',encoding=\"utf-8\")\n",
    "\n",
    "data_path='stemmer_dataset_one_to_one.txt'\n",
    "num_samples=20100\n",
    "\n",
    "with open(data_path, 'r', encoding='utf-8') as f:\n",
    "    lines = f.read().split('\\n')\n",
    "    \n",
    "for line in lines[: min(num_samples, len(lines) - 1)]:\n",
    "    input_text, target_text = line.split(' ')\n",
    "    file.write(line+'\\n')\n",
    "        \n",
    "file.close()    "
   ]
  },
  {
   "cell_type": "code",
   "execution_count": 4,
   "metadata": {
    "collapsed": true
   },
   "outputs": [],
   "source": [
    "#file = open('stop_word_and_stem.txt','w',encoding=\"utf-8\")\n",
    "\n",
    "#data_path='stop_word.txt'\n",
    "\n",
    "#with open(data_path, 'r', encoding='utf-8') as f:\n",
    " #   lines = f.read().split('\\n')\n",
    "    \n",
    "#for line in lines:\n",
    " #   file.write(line+' '+line+'\\n')\n",
    "        \n",
    "#file.close() "
   ]
  },
  {
   "cell_type": "code",
   "execution_count": 6,
   "metadata": {
    "collapsed": true
   },
   "outputs": [],
   "source": [
    "#stop word and their stem word are added to dataset\n",
    "\n",
    "file = open('dataset.txt','a',encoding=\"utf-8\")\n",
    "\n",
    "data_path='stop_word_and_stem.txt'\n",
    "\n",
    "with open(data_path, 'r', encoding='utf-8') as f:\n",
    "    lines = f.read().split('\\n')\n",
    "    \n",
    "for line in lines:\n",
    "    file.write(line+'\\n')\n",
    "        \n",
    "file.close() "
   ]
  },
  {
   "cell_type": "code",
   "execution_count": 21,
   "metadata": {},
   "outputs": [
    {
     "name": "stdout",
     "output_type": "stream",
     "text": [
      "11817\n"
     ]
    }
   ],
   "source": [
    "#the sequence which have same input and target word\n",
    "\n",
    "unique_target_word={'নাম'}\n",
    "\n",
    "file = open('unique_word_and_stem.txt','w',encoding=\"utf-8\")\n",
    "\n",
    "data_path='dataset.txt'\n",
    "\n",
    "with open(data_path, 'r', encoding='utf-8') as f:\n",
    "    lines = f.read().split('\\n')\n",
    "    \n",
    "for line in lines:\n",
    "    input_text, target_text = line.split(' ')\n",
    "    unique_target_word.add(target_text)\n",
    "\n",
    "for unique in unique_target_word:\n",
    "    file.write(unique+' '+unique+'\\n')\n",
    "\n",
    "print(len(unique_target_word))\n",
    "file.close()"
   ]
  },
  {
   "cell_type": "code",
   "execution_count": 22,
   "metadata": {
    "collapsed": true
   },
   "outputs": [],
   "source": [
    "#the sequence which have same input and target word\n",
    "\n",
    "file = open('dataset.txt','a',encoding=\"utf-8\")\n",
    "\n",
    "data_path='unique_word_and_stem.txt'\n",
    "\n",
    "with open(data_path, 'r', encoding='utf-8') as f:\n",
    "    lines = f.read().split('\\n')\n",
    "    \n",
    "for line in lines:\n",
    "    file.write(line+'\\n')\n",
    "    \n",
    "file.close()"
   ]
  },
  {
   "cell_type": "code",
   "execution_count": 36,
   "metadata": {},
   "outputs": [
    {
     "name": "stdout",
     "output_type": "stream",
     "text": [
      "5\n",
      "3\n",
      "কে\n"
     ]
    }
   ],
   "source": [
    "str1 = \"দেশকে\"\n",
    "str2 = \"দেশ\"\n",
    "\n",
    "no_suffix=0\n",
    "print(len(str1))\n",
    "print(len(str2))\n",
    "if(len(str1)==len(str2)):\n",
    "    no_suffix+=1\n",
    "else:\n",
    "    suffix=str1[len(str2):len(str1)]\n",
    "    print(suffix)"
   ]
  },
  {
   "cell_type": "code",
   "execution_count": 2,
   "metadata": {},
   "outputs": [
    {
     "name": "stdout",
     "output_type": "stream",
     "text": [
      "Counter({'ের': 3887, 'র': 2707, 'কে': 2300, 'ে': 1712, 'ও': 1151, 'ই': 1030, 'দের': 653, 'টি': 545, 'য়': 539, 'তে': 511, 'রা': 392, 'গুলো': 390, 'টা': 367, 'েই': 287, 'েও': 270, 'গুলোর': 225, 'টির': 183, 'কেই': 180, 'কেও': 163, 'েরও': 155, 'য়ের': 152, 'েরই': 134, 'গুলোতে': 126, 'েরা': 124, 'টিকে': 111, 'টিতে': 102, 'রও': 96, 'গুলোকে': 95, 'তেই': 90, 'রই': 88, 'টাই': 74, 'রাও': 69, 'য়ে': 66, 'টাকে': 65, 'টিও': 64, 'তেও': 61, 'রাই': 60, 'টাও': 55, 'দেরও': 55, 'গুলোও': 54, 'য়ও': 39, 'টার': 38, 'টিই': 36, 'গুলোয়': 35, 'দেরই': 33, 'রে': 32, 'য়ই': 26, 'গুলোই': 23, 'রের': 22, 'সমূহ': 20, 'টায়': 16, 'জন': 14, 'েরাও': 14, 'টিতেই': 13, 'সমূহের': 12, 'রকে': 11, 'কের': 10, 'খানা': 9, 'জনের': 9, 'এর': 8, 'জনকে': 8, 'গণ': 8, 'টিকেই': 8, 'দল': 8, 'টিতেও': 8, 'টিরও': 7, 'েন': 7, 'গুলি': 6, 'টাতেই': 6, 'গুলোকেও': 6, 'টাতে': 6, 'মালা': 6, 'েরাই': 6, 'গুলোতেও': 5, 'রদের': 5, 'েকে': 5, 'টিকেও': 5, 'য়েও': 5, 'টাকেও': 5, 'েরে': 5, 'দেরকে': 5, 'টাকেই': 5, 'এ': 4, 'রটা': 4, 'গুলোকেই': 4, 'সব': 4, 'েদের': 4, 'েরটা': 4, 'গুলোরও': 4, 'সমূহে': 4, 'তার': 4, 'ইর': 3, 'দলে': 3, 'দলের': 3, 'খানার': 3, 'খানায়': 3, 'ররা': 3, 'ইয়ের': 3, 'টাতেও': 3, 'রার': 3, 'কুল': 3, 'এতে': 3, 'তের': 3, 'য়েই': 3, 'কেরা': 3, 'য়েরও': 3, 'লেন': 3, 'েছেন': 3, 'গুচ্ছ': 2, 'ইকে': 2, 'েরর': 2, 'রটি': 2, 'দলও': 2, 'মণ্ডলীর': 2, 'শ্রেণী': 2, 'েতে': 2, 'মালাটি': 2, 'বর্গের': 2, 'জনেরই': 2, 'মহলে': 2, 'গণকে': 2, 'গ্রামে': 2, 'গুলোতেই': 2, 'গুলোরই': 2, 'েরটিতে': 2, 'মণ্ডলীতে': 2, 'গণও': 2, 'গুলির': 2, 'রেই': 2, 'রেও': 2, 'একে': 2, 'কুলকে': 2, 'ভাবেই': 2, 'জনই': 2, 'রকেও': 2, 'তাকে': 2, 'তায়': 2, 'েরের': 2, 'ভাবেও': 2, 'বে': 2, 'লেও': 2, 'মালায়': 2, 'মালার': 2, 'ার': 2, 'েছে': 2, 'জ': 1, 'ইরে': 1, 'সবে': 1, 'ডারে': 1, 'খানি': 1, 'গুলোয়ও': 1, 'ডারেও': 1, 'কেরাও': 1, 'রাশি': 1, 'দলই': 1, 'ওয়েতে': 1, 'গ্রামের': 1, 'ওয়েকে': 1, 'লোকে': 1, 'মহলগুলোতে': 1, 'য়েরা': 1, 'রজন': 1, 'পুঞ্জে': 1, 'মহলের': 1, 'েরজন': 1, 'টিএ': 1, 'গুলোরে': 1, 'রগুলো': 1, 'গণের': 1, 'শ্রেণীকে': 1, 'জনেরা': 1, 'শ্রেণীগুলো': 1, 'রায়': 1, 'জনেরাও': 1, 'শ্রেণীর': 1, 'য়খানাই': 1, 'য়খানায়': 1, 'য়খানার': 1, 'এয়ের': 1, 'মহলগুলো': 1, 'এটা': 1, 'গুচ্ছের': 1, 'জনকেই': 1, 'জনদের': 1, 'য়েরই': 1, 'জনরে': 1, 'পুঞ্জের': 1, 'ায়নের': 1, 'কুলের': 1, 'বর্গে': 1, 'নির্ভরতার': 1, 'জনও': 1, 'জনে': 1, 'রাকে': 1, 'রাটা': 1, 'রাটি': 1, 'েয়কে': 1, 'টিরই': 1, 'রটায়': 1, 'রটার': 1, 'কুলে': 1, 'বলী': 1, 'েরকে': 1, 'েরার': 1, 'ীকরণের': 1, 'টারও': 1, 'মালাকে': 1, 'মালাটা': 1, 'মালারও': 1, 'মণ্ডলী': 1, 'গণই': 1, 'গুলিতে': 1, 'বেই': 1, 'বলিতে': 1, 'জালে': 1, 'পুঞ্জ': 1, 'েকের': 1, 'সমূহকে': 1, 'বর্গ': 1, 'মালাও': 1, 'ইটায়': 1, 'বলির': 1, 'েরটির': 1, 'রতদের': 1, 'মালাটিকে': 1, 'ওয়ের': 1, 'ানোর': 1, 'ওতে': 1, 'লোক': 1, 'া': 1, 'ি': 1, 'িয়ে': 1, 'াই': 1, 'লে': 1, 'িতে': 1, 'িয়া': 1, 'েছিলেন': 1, 'ছে': 1, 'ছেন': 1, 'বেন': 1, 'ায়': 1, 'ন': 1, 'ল': 1, 'েছিল': 1, 'য়': 1, '়': 1})\n",
      "246\n"
     ]
    }
   ],
   "source": [
    "from collections import Counter\n",
    "\n",
    "with open('dataset.txt', 'r', encoding='utf-8') as f:\n",
    "    lines = f.read().split('\\n')\n",
    "    \n",
    "num_samples=32530\n",
    "no_suffix=0\n",
    "suffix_list=[]\n",
    "\n",
    "for line in lines[: min(num_samples, len(lines) - 1)]:\n",
    "   # print(line)\n",
    "    input_text, target_text = line.split(' ')\n",
    "#print(len(str1))\n",
    "#print(len(str2))\n",
    "    if(len(input_text)==len(target_text)):\n",
    "        no_suffix+=1\n",
    "    else:\n",
    "        suffix=input_text[len(target_text):len(input_text)]\n",
    "        suffix_list.append(suffix)\n",
    "\n",
    "#print(suffix_list)\n",
    "counts = Counter(suffix_list)\n",
    "print(counts)\n",
    "print(len(counts))"
   ]
  },
  {
   "cell_type": "code",
   "execution_count": 5,
   "metadata": {
    "collapsed": true
   },
   "outputs": [],
   "source": [
    "from numpy.random import shuffle\n",
    "import random\n",
    "\n",
    "file = open('dataset_random.txt','w',encoding=\"utf-8\")\n",
    "\n",
    "with open('dataset.txt', 'r', encoding='utf-8') as f:\n",
    "    lines = f.read().split('\\n')\n",
    "random.shuffle(lines)\n",
    "    \n",
    "for line in lines:\n",
    "    file.write(line+'\\n') "
   ]
  },
  {
   "cell_type": "code",
   "execution_count": null,
   "metadata": {
    "collapsed": true
   },
   "outputs": [],
   "source": []
  }
 ],
 "metadata": {
  "kernelspec": {
   "display_name": "Python 3",
   "language": "python",
   "name": "python3"
  },
  "language_info": {
   "codemirror_mode": {
    "name": "ipython",
    "version": 3
   },
   "file_extension": ".py",
   "mimetype": "text/x-python",
   "name": "python",
   "nbconvert_exporter": "python",
   "pygments_lexer": "ipython3",
   "version": "3.6.3"
  }
 },
 "nbformat": 4,
 "nbformat_minor": 2
}
